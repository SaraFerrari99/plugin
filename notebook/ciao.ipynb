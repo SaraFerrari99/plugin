{
 "cells": [
  {
   "cell_type": "code",
   "execution_count": 4,
   "metadata": {
    "dotnet_interactive": {
     "language": "javascript"
    },
    "polyglot_notebook": {
     "kernelName": "javascript"
    },
    "scrolled": true,
    "tags": []
   },
   "outputs": [
    {
     "ename": "ModuleNotFoundError",
     "evalue": "No module named 'hide_code'",
     "output_type": "error",
     "traceback": [
      "\u001b[1;31m---------------------------------------------------------------------------\u001b[0m",
      "\u001b[1;31mModuleNotFoundError\u001b[0m                       Traceback (most recent call last)",
      "\u001b[1;32mc:\\Users\\black\\Desktop\\polyglot\\notebook\\ciao.ipynb Cell 1\u001b[0m line \u001b[0;36m1\n\u001b[1;32m----> <a href='vscode-notebook-cell:/c%3A/Users/black/Desktop/polyglot/notebook/ciao.ipynb#X14sZmlsZQ%3D%3D?line=0'>1</a>\u001b[0m \u001b[39mfrom\u001b[39;00m \u001b[39mhide_code\u001b[39;00m \u001b[39mimport\u001b[39;00m hide_code\n\u001b[0;32m      <a href='vscode-notebook-cell:/c%3A/Users/black/Desktop/polyglot/notebook/ciao.ipynb#X14sZmlsZQ%3D%3D?line=2'>3</a>\u001b[0m html_code \u001b[39m=\u001b[39m \u001b[39m'''\u001b[39m\n\u001b[0;32m      <a href='vscode-notebook-cell:/c%3A/Users/black/Desktop/polyglot/notebook/ciao.ipynb#X14sZmlsZQ%3D%3D?line=3'>4</a>\u001b[0m \u001b[39m<!DOCTYPE html>\u001b[39m\n\u001b[0;32m      <a href='vscode-notebook-cell:/c%3A/Users/black/Desktop/polyglot/notebook/ciao.ipynb#X14sZmlsZQ%3D%3D?line=4'>5</a>\u001b[0m \u001b[39m<html>\u001b[39m\n\u001b[1;32m   (...)\u001b[0m\n\u001b[0;32m     <a href='vscode-notebook-cell:/c%3A/Users/black/Desktop/polyglot/notebook/ciao.ipynb#X14sZmlsZQ%3D%3D?line=27'>28</a>\u001b[0m \u001b[39m</html>\u001b[39m\n\u001b[0;32m     <a href='vscode-notebook-cell:/c%3A/Users/black/Desktop/polyglot/notebook/ciao.ipynb#X14sZmlsZQ%3D%3D?line=28'>29</a>\u001b[0m \u001b[39m'''\u001b[39m\n\u001b[0;32m     <a href='vscode-notebook-cell:/c%3A/Users/black/Desktop/polyglot/notebook/ciao.ipynb#X14sZmlsZQ%3D%3D?line=30'>31</a>\u001b[0m hide_code(html_code, language\u001b[39m=\u001b[39m\u001b[39m'\u001b[39m\u001b[39mhtml\u001b[39m\u001b[39m'\u001b[39m)\n",
      "\u001b[1;31mModuleNotFoundError\u001b[0m: No module named 'hide_code'"
     ]
    }
   ],
   "source": [
    "from hide_code import hide_code\n",
    "\n",
    "html_code = '''\n",
    "<!DOCTYPE html>\n",
    "<html>\n",
    "<head>\n",
    "    <title>Bottone Jupyter</title>\n",
    "    <style>\n",
    "        /* Aggiungi stili CSS se necessario */\n",
    "        body {\n",
    "            text-align: center;\n",
    "            padding: 20px;\n",
    "        }\n",
    "    </style>\n",
    "</head>\n",
    "<body>\n",
    "\n",
    "<button onclick=\"eseguiAzione()\">Clicca qui</button>\n",
    "\n",
    "<script>\n",
    "    function eseguiAzione() {\n",
    "        // Aggiungi l'azione che vuoi eseguire quando il bottone viene cliccato\n",
    "        alert('Azione eseguita!');\n",
    "    }\n",
    "</script>\n",
    "\n",
    "</body>\n",
    "</html>\n",
    "'''\n",
    "\n",
    "hide_code(html_code, language='html')\n"
   ]
  }
 ],
 "metadata": {
  "celltoolbar": "Edit Metadata",
  "kernelspec": {
   "display_name": "Python 3 (ipykernel)",
   "language": "python",
   "name": "python3"
  },
  "language_info": {
   "codemirror_mode": {
    "name": "ipython",
    "version": 3
   },
   "file_extension": ".py",
   "mimetype": "text/x-python",
   "name": "python",
   "nbconvert_exporter": "python",
   "pygments_lexer": "ipython3",
   "version": "3.12.0"
  },
  "polyglot_notebook": {
   "kernelInfo": {
    "defaultKernelName": "csharp",
    "items": [
     {
      "aliases": [],
      "name": "csharp"
     }
    ]
   }
  },
  "tags": [
   "remove-input"
  ]
 },
 "nbformat": 4,
 "nbformat_minor": 2
}
